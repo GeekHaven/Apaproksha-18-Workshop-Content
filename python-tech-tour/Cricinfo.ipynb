{
 "cells": [
  {
   "cell_type": "code",
   "execution_count": 11,
   "metadata": {
    "collapsed": false
   },
   "outputs": [
    {
     "name": "stdout",
     "output_type": "stream",
     "text": [
      "Running...\n"
     ]
    },
    {
     "ename": "KeyboardInterrupt",
     "evalue": "",
     "output_type": "error",
     "traceback": [
      "\u001b[1;31m---------------------------------------------------------------------------\u001b[0m",
      "\u001b[1;31mKeyboardInterrupt\u001b[0m                         Traceback (most recent call last)",
      "\u001b[1;32m<ipython-input-11-a50510585720>\u001b[0m in \u001b[0;36m<module>\u001b[1;34m()\u001b[0m\n\u001b[0;32m     38\u001b[0m     \u001b[0mscore\u001b[0m \u001b[1;33m=\u001b[0m \u001b[0mdata\u001b[0m\u001b[1;33m[\u001b[0m\u001b[1;36m1\u001b[0m\u001b[1;33m]\u001b[0m\u001b[1;33m.\u001b[0m\u001b[0mtext\u001b[0m\u001b[1;33m\u001b[0m\u001b[0m\n\u001b[0;32m     39\u001b[0m     \u001b[0msend_message\u001b[0m\u001b[1;33m(\u001b[0m\u001b[1;34m\"Score\"\u001b[0m\u001b[1;33m,\u001b[0m \u001b[0mscore\u001b[0m\u001b[1;33m)\u001b[0m\u001b[1;33m\u001b[0m\u001b[0m\n\u001b[1;32m---> 40\u001b[1;33m     \u001b[0msleep\u001b[0m\u001b[1;33m(\u001b[0m\u001b[1;36m60\u001b[0m\u001b[1;33m)\u001b[0m \u001b[1;31m# sleep the program for 60 seconds. We most definitely don't want notifications to appear every second.\u001b[0m\u001b[1;33m\u001b[0m\u001b[0m\n\u001b[0m",
      "\u001b[1;31mKeyboardInterrupt\u001b[0m: "
     ]
    }
   ],
   "source": [
    "import requests\n",
    "from bs4 import BeautifulSoup\n",
    "\n",
    "\n",
    "# pynotify will allow us to easily display desktop notifications\n",
    "import pynotify\n",
    "\n",
    "# sleep() function will pause the program execution for the amount of time passed in as the parameter\n",
    "from time import sleep \n",
    "\n",
    "\n",
    "# This is the site from we would fetch data of live cricket updates\n",
    "info_url = \"http://static.cricinfo.com/rss/livescores.xml\"\n",
    "\n",
    "def send_message(title, message):\n",
    "    pynotify.init(\"Test\")\n",
    "    notice = pynotify.Notification(title, message)\n",
    "    \n",
    "    # this calls native OS APIs to show notification. We don't need to go too much into how this works. That has been\n",
    "    # figured out by the author of the library. What we need to know is this function displays our notifications.\n",
    "    notice.show()\n",
    "    \n",
    "    return \"Done\"\n",
    "\n",
    "print(\"Running...\")\n",
    "\n",
    "while True:\n",
    "    r = requests.get(info_url) # Get the Cricinfo Live scores webpage\n",
    "    \n",
    "    # A status code of 200 means that the fetching of webpage was successful. It is just like the dreaded 404 which means\n",
    "    # that the webpage was not found.\n",
    "    # So, if the status code is not 200 it means that some problem occurred, so we should probably try again.\n",
    "    while r.status_code is not 200:\n",
    "        r = requests.get(info_url)\n",
    "    \n",
    "    soup = BeautifulSoup(r.text, 'html.parser')\n",
    "    data = soup.find_all(\"description\")\n",
    "    score = data[1].text\n",
    "    send_message(\"Score\", score)\n",
    "    sleep(60) # sleep the program for 60 seconds. We most definitely don't want notifications to appear every second.\n"
   ]
  },
  {
   "cell_type": "code",
   "execution_count": null,
   "metadata": {
    "collapsed": true
   },
   "outputs": [],
   "source": []
  }
 ],
 "metadata": {
  "kernelspec": {
   "display_name": "Python 2",
   "language": "python",
   "name": "python2"
  },
  "language_info": {
   "codemirror_mode": {
    "name": "ipython",
    "version": 2
   },
   "file_extension": ".py",
   "mimetype": "text/x-python",
   "name": "python",
   "nbconvert_exporter": "python",
   "pygments_lexer": "ipython2",
   "version": "2.7.12"
  }
 },
 "nbformat": 4,
 "nbformat_minor": 0
}
