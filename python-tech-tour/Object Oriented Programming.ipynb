{
 "cells": [
  {
   "cell_type": "markdown",
   "metadata": {},
   "source": [
    "# Object Oriented Programming\n",
    "\n",
    "What is a programming paradigm?\n",
    "- They way you strucutre and use your codebase.\n",
    "\n",
    "The following table shows information about JEE information about some students.\n",
    "\n",
    "| ROLL NO. | NAME | BOARD | PHYSICS | CHEMISTY | MATHS |\n",
    "|-|-|-|-|-|-|\n",
    "| 1001 | Ravi Charan | CBSE | 80 | 70 | 75 |\n",
    "| 1002 | Harshit Jain | UP | 70 | 90 | 85 |\n",
    "| 1003 | Abhishek Singh | ISCE | 100 | 20 | 30\n",
    "| 1004 | Swapnil Chauhan | CBSE | 50 | 40 | 15"
   ]
  },
  {
   "cell_type": "markdown",
   "metadata": {},
   "source": [
    "Let us ask some questions to our data.\n",
    "\n",
    "* How to find marks of a particular subject to a particular roll no.?\n",
    "* Find the average marks of physics of all students?\n",
    "* How to get the total marks for each student?\n",
    "\n",
    "There are various ways to handle how the data is stored and accessed in our program. Let's compare some of them."
   ]
  },
  {
   "cell_type": "code",
   "execution_count": 3,
   "metadata": {},
   "outputs": [
    {
     "name": "stdout",
     "output_type": "stream",
     "text": [
      "Marks in physics 70\n",
      "Total marks 245\n",
      "average marks in physics is 52.5\n"
     ]
    }
   ],
   "source": [
    "# 1 : modelling the table rows as list\n",
    "\n",
    "marks_data = [\n",
    "    [1001, 'Ravi Charan', 'CBSE', 80, 70, 75],\n",
    "    [1002, 'Harshit Jain', 'UP', 70, 90, 85],\n",
    "    [1003, 'Abhishek Singh', 100, 20, 30],\n",
    "    [1004, 'Swapnil Chauhan', 50, 40, 15]\n",
    "]\n",
    "\n",
    "# Since Harshit's record is in the second row, it's available at index 1 (counting starts from 0)\n",
    "print('Marks in physics', marks_data[1][3])\n",
    "print('Total marks', marks_data[1][3] + marks_data[1][4] + marks_data[1][5])\n",
    "\n",
    "# Finding the average marks in physics\n",
    "total_marks_in_physics = 0\n",
    "count = 0\n",
    "for rec in marks_data:\n",
    "    count += 1\n",
    "    total_marks_in_physics += rec[3]\n",
    "    \n",
    "print('average marks in physics is', total_marks_in_physics / count)  # not considering that there can be 0 students"
   ]
  },
  {
   "cell_type": "code",
   "execution_count": 5,
   "metadata": {},
   "outputs": [
    {
     "name": "stdout",
     "output_type": "stream",
     "text": [
      "Physics marks 70\n",
      "Total marks 70 90 85\n",
      "average marks in physics 75.0\n",
      "average marks in physics 75.0\n"
     ]
    }
   ],
   "source": [
    "# 2 : another way some people use\n",
    "\n",
    "roll_numbers = [1001, 1002, 1003, 1004]\n",
    "names = ['Ravi Charan', 'Harshit Jain', 'Abhishek Singh', 'Swapnil Chauhan']\n",
    "board = ['CBSE', 'UP', 'ISCE', 'CBSE']\n",
    "physics_marks = [80, 70, 100, 50]\n",
    "chemistry_marks = [70, 90, 20, 40]\n",
    "maths_marks = [75, 85, 30, 15]\n",
    "\n",
    "# Find the physics marks of Harshit and also the total\n",
    "\n",
    "# Harshit is at second position : 1 if counting starts from 0\n",
    "# So, the position of list where the required information lies is `1`.\n",
    "print('Physics marks', physics_marks[1])\n",
    "print('Total marks', physics_marks[1], chemistry_marks[1], maths_marks[1])\n",
    "\n",
    "total_marks_in_physics = 0\n",
    "count = 0\n",
    "for each_mark in physics_marks:\n",
    "    count += 1 \n",
    "    total_marks_in_physics += each_mark\n",
    "    \n",
    "print('average marks in physics', total_marks_in_physics / count)\n",
    "\n",
    "\n",
    "# another elegant way of finding the average physics marks this time\n",
    "total_marks_in_physics = sum(physics_marks)\n",
    "count = len(physics_marks)\n",
    "print('average marks in physics', total_marks_in_physics / count)"
   ]
  },
  {
   "cell_type": "code",
   "execution_count": 9,
   "metadata": {},
   "outputs": [
    {
     "name": "stdout",
     "output_type": "stream",
     "text": [
      "Physics marks ['Harshit Jain', 'UP', 70, 90, 85]\n",
      "Total marks 245\n",
      "Total marks 245\n",
      "average marks in physics 52.5\n"
     ]
    }
   ],
   "source": [
    "# Bringing the data of all students together\n",
    "# Using dictionary with roll number as key and other columns as values\n",
    "# Benefit: No position required, easy to search\n",
    "\n",
    "marks_data = {\n",
    "    1001: ['Ravi Charan', 'CBSE', 80, 70, 75],\n",
    "    1002: ['Harshit Jain', 'UP', 70, 90, 85],\n",
    "    1003: ['Abhishek Singh', 100, 20, 30],\n",
    "    1004: ['Swapnil Chauhan', 50, 40, 15]\n",
    "}\n",
    "\n",
    "print('Physics marks', marks_data[1002])\n",
    "print('Total marks', marks_data[1002][2] + marks_data[1002][3] + marks_data[1002][4])\n",
    "\n",
    "# another elegant way of doing the sum\n",
    "print('Total marks', sum(marks_data[1002][2:]))\n",
    "\n",
    "# average marks in physics\n",
    "total_marks_in_physics = 0\n",
    "count = 0\n",
    "for rec in marks_data.values():\n",
    "    count += 1\n",
    "    total_marks_in_physics += rec[2]\n",
    "    \n",
    "print('average marks in physics', total_marks_in_physics / count)"
   ]
  },
  {
   "cell_type": "markdown",
   "metadata": {},
   "source": [
    "## Problems so far\n",
    "\n",
    "1. Need of remembering the index where the required value will be found.\n",
    "2. A part of record exists at one place and another somewhere else. This should have been at just one place.\n",
    "\n",
    "First methods solves the second problem and the second method solves the first problem."
   ]
  },
  {
   "cell_type": "markdown",
   "metadata": {},
   "source": [
    "## The concept of *Class*\n",
    "\n",
    "A `Class` is a data type which has some attributes and method.\n",
    "\n",
    "The instances of a class are called its `objects`.\n",
    "\n",
    "The `attributes` describe the properties of `object` and `methods` operate on the object created.\n",
    "\n",
    "Consider the version below which takes the example of a ball:"
   ]
  },
  {
   "cell_type": "code",
   "execution_count": 17,
   "metadata": {},
   "outputs": [
    {
     "name": "stdout",
     "output_type": "stream",
     "text": [
      "3\n",
      "red\n",
      "113.03999999999998\n"
     ]
    }
   ],
   "source": [
    "class Ball:\n",
    "    def __init__(self, radius, color):\n",
    "        self.radius = radius\n",
    "        self.color = color\n",
    "        \n",
    "    def get_volume(self):\n",
    "        return 4 / 3 * 3.14 * self.radius * self.radius * self.radius\n",
    "    \n",
    "\n",
    "b = Ball(3, 'red')\n",
    "print(b.radius)\n",
    "print(b.color)\n",
    "print(b.get_volume())"
   ]
  },
  {
   "cell_type": "markdown",
   "metadata": {},
   "source": [
    "## Attributes and methods\n",
    "\n",
    "In above examples, `b` is an object/instance not of type `list` or `dict`, but of type `ball`.\n",
    "This gives more like a self-identity to the subject here.\n",
    "\n",
    "`radius` and `color` are the attributes of ball `b`.\n",
    "The way an `integer` has a `value` as attribute, same way a ball has a `radius` and a `color`.\n",
    "Classes allow your variable/instance to have multiple attributes.\n",
    "\n",
    "`get_volume()` is a method of class `Ball`. A method operates on a particular instance of a class.\n",
    "Thus, calling `get_volume()` on `b` operates on the ball itself.\n",
    "\n",
    "The keyword `self` helps in identifying the right object which is being referred to at some point."
   ]
  },
  {
   "cell_type": "markdown",
   "metadata": {},
   "source": [
    "### The marks example using classes\n"
   ]
  },
  {
   "cell_type": "code",
   "execution_count": 16,
   "metadata": {},
   "outputs": [
    {
     "name": "stdout",
     "output_type": "stream",
     "text": [
      "Physics marks 70\n",
      "total marks 245\n",
      "average marks in physics 75.0\n"
     ]
    }
   ],
   "source": [
    "class Record:\n",
    "    def __init__(self, roll_no, name, phy, chem, math):\n",
    "        self.roll_no = roll_no\n",
    "        self.name = name\n",
    "        self.physics = phy\n",
    "        self.chemistry = chem\n",
    "        self.maths = math\n",
    "        \n",
    "    def total_marks(self):\n",
    "        return self.physics + self.chemistry + self.maths\n",
    "    \n",
    "\n",
    "marks_data = {\n",
    "    1001: Record('Ravi Charan', 'CBSE', 80, 70, 75),\n",
    "    1002: Record('Harshit Jain', 'UP', 70, 90, 85),\n",
    "    1003: Record('Abhishek Singh', 'ISCE', 100, 20, 30),\n",
    "    1004: Record('Swapnil Chauhan', 'CBSE', 50, 40, 15)\n",
    "}\n",
    "\n",
    "print('Physics marks', marks_data[1002].physics)\n",
    "print('total marks', marks_data[1002].total_marks())\n",
    "\n",
    "total_marks_in_physics = sum(each.physics for each in marks_data.values())\n",
    "count = len(marks_data)\n",
    "print('average marks in physics', total_marks_in_physics / count)"
   ]
  }
 ],
 "metadata": {
  "kernelspec": {
   "display_name": "Python 3",
   "language": "python",
   "name": "python3"
  },
  "language_info": {
   "codemirror_mode": {
    "name": "ipython",
    "version": 3
   },
   "file_extension": ".py",
   "mimetype": "text/x-python",
   "name": "python",
   "nbconvert_exporter": "python",
   "pygments_lexer": "ipython3",
   "version": "3.6.4"
  }
 },
 "nbformat": 4,
 "nbformat_minor": 2
}
