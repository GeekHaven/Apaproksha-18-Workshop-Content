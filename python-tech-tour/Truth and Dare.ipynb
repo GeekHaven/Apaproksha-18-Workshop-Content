{
 "cells": [
  {
   "cell_type": "code",
   "execution_count": 3,
   "metadata": {
    "collapsed": false
   },
   "outputs": [
    {
     "name": "stdout",
     "output_type": "stream",
     "text": [
      "Enter the no of players: 4\n",
      "Press 'P' to Play next turn or 'Q' to exitP\n",
      "1  got TRUTH!\n",
      "Press 'P' to Play next turn or 'Q' to exitp\n",
      "2  got DARE!\n",
      "Press 'P' to Play next turn or 'Q' to exitp\n",
      "3  got DARE!\n",
      "Press 'P' to Play next turn or 'Q' to exitp\n",
      "4  got DARE!\n",
      "Press 'P' to Play next turn or 'Q' to exitp\n",
      "1  got TRUTH!\n",
      "Press 'P' to Play next turn or 'Q' to exitp\n",
      "2  got DARE!\n",
      "Press 'P' to Play next turn or 'Q' to exitp\n",
      "3  got TRUTH!\n",
      "Press 'P' to Play next turn or 'Q' to exitq\n",
      "Thanks for palying\n"
     ]
    }
   ],
   "source": [
    "from random import randint\n",
    "from itertools import cycle\n",
    "\n",
    "\n",
    "no_of_players = int(raw_input(\"Enter the no of players: \"))\n",
    "\n",
    "# cycle() will run the loop in circles. Meaning after reaching the end, it will again start from the beginning\n",
    "for player in cycle(range(1, no_of_players + 1)):\n",
    "    play_next = raw_input(\"Press 'P' to Play next turn or 'Q' to exit\")\n",
    "    \n",
    "    if (play_next.lower() != 'q'):\n",
    "        # Generate a random no.\n",
    "        random_no = randint(1, 2)\n",
    "\n",
    "        if (random_no == 1):\n",
    "            print(player, \" got TRUTH!\")\n",
    "        else:\n",
    "            print(player, \" got DARE!\")\n",
    "    else:\n",
    "        break\n",
    "print(\"Thanks for palying\")\n"
   ]
  },
  {
   "cell_type": "code",
   "execution_count": null,
   "metadata": {
    "collapsed": true
   },
   "outputs": [],
   "source": []
  }
 ],
 "metadata": {
  "kernelspec": {
   "display_name": "Python 2",
   "language": "python",
   "name": "python2"
  },
  "language_info": {
   "codemirror_mode": {
    "name": "ipython",
    "version": 2
   },
   "file_extension": ".py",
   "mimetype": "text/x-python",
   "name": "python",
   "nbconvert_exporter": "python",
   "pygments_lexer": "ipython2",
   "version": "2.7.12"
  }
 },
 "nbformat": 4,
 "nbformat_minor": 0
}
