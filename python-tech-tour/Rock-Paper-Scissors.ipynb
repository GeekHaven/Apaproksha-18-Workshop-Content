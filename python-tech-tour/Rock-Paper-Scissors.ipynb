{
 "cells": [
  {
   "cell_type": "code",
   "execution_count": null,
   "metadata": {
    "collapsed": false
   },
   "outputs": [
    {
     "name": "stdout",
     "output_type": "stream",
     "text": [
      "ROCK, PAPER OR SCISSORS GAME\n",
      "Press q to exit anytime\n",
      "\n",
      "Rock, Paper or Scissors? Rock\n",
      "There is a Tie!!\n",
      "\n",
      "Rock, Paper or Scissors? Paper\n",
      "You lost! Your Paper got cut by Scissors\n",
      "\n",
      "Rock, Paper or Scissors? Scissors\n",
      "There is a Tie!!\n",
      "\n",
      "Rock, Paper or Scissors? Rock\n",
      "You won! Your Rock smashed that Scissors\n"
     ]
    }
   ],
   "source": [
    "from random import randint\n",
    "\n",
    "\n",
    "# function which returns rock, paper or scissors according to the number passed\n",
    "# NOTE There are better ways to do this without using functions, like using lists as we will see later\n",
    "def computer_move(random_no):\n",
    "    if random_no == 1:\n",
    "        return \"Rock\"\n",
    "    elif random_no == 2:\n",
    "        return \"Paper\"\n",
    "    else:\n",
    "        return \"Scissors\"\n",
    "\n",
    "# This indicates that player wants to play\n",
    "is_playing = True\n",
    "\n",
    "print(\"ROCK, PAPER OR SCISSORS GAME\\nPress q to exit anytime\")\n",
    "\n",
    "while is_playing:\n",
    "    # take input from the player\n",
    "    player_move = raw_input(\"\\nRock, Paper or Scissors? \")\n",
    "\n",
    "    # Generate a random number\n",
    "    random_no = randint(1, 3)\n",
    "\n",
    "    # get Computer move by calling computer_move function\n",
    "    comp_move = computer_move(random_no)\n",
    "\n",
    "    if player_move == comp_move:\n",
    "        print(\"There is a Tie!!\")\n",
    "    elif player_move == \"Rock\":\n",
    "        if comp_move == \"Paper\":\n",
    "            print(\"You lost! Your\", player_move, \"got covered by\", comp_move)\n",
    "        else:\n",
    "            print(\"You won! Your\", player_move, \"smashed that\", comp_move)\n",
    "    elif player_move == \"Paper\":\n",
    "        if comp_move == \"Rock\":\n",
    "            print(\"You won! Your\", player_move, \"covered that\", comp_move)\n",
    "        else:\n",
    "            print(\"You lost! Your\", player_move, \"got cut by\", comp_move)\n",
    "    elif player_move == \"Scissors\":\n",
    "        if comp_move == \"Paper\":\n",
    "            print(\"You won! Your\", player_move, \"cut that\", comp_move)\n",
    "        else:\n",
    "            print(\"You lost! Your\", player_move, \"got smashed by\", comp_move)\n",
    "    elif player_move.lower() == 'q':\n",
    "        # if player presses 'q', then set is_playing to False, so the program breaks out of while loop and\n",
    "        # game stops\n",
    "        is_playing = False\n",
    "    else:\n",
    "        print(\"Please check your spellings and try again\")"
   ]
  },
  {
   "cell_type": "code",
   "execution_count": null,
   "metadata": {
    "collapsed": true
   },
   "outputs": [],
   "source": []
  }
 ],
 "metadata": {
  "kernelspec": {
   "display_name": "Python 2",
   "language": "python",
   "name": "python2"
  },
  "language_info": {
   "codemirror_mode": {
    "name": "ipython",
    "version": 2
   },
   "file_extension": ".py",
   "mimetype": "text/x-python",
   "name": "python",
   "nbconvert_exporter": "python",
   "pygments_lexer": "ipython2",
   "version": "2.7.12"
  }
 },
 "nbformat": 4,
 "nbformat_minor": 0
}
