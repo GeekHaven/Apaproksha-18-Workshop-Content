{
 "cells": [
  {
   "cell_type": "code",
   "execution_count": 9,
   "metadata": {},
   "outputs": [
    {
     "name": "stdout",
     "output_type": "stream",
     "text": [
      "apple\n",
      "APPLE\n",
      "Any tree genus Pyrus which has the stalk sunken into the baseof the fruit; an apple tree.\n"
     ]
    }
   ],
   "source": [
    "import json\n",
    "key  = input().upper()\n",
    "\n",
    "file = open('data.json','r')\n",
    "data = json.load(file)\n",
    "\n",
    "if key in data:\n",
    "    print(data[key])"
   ]
  },
  {
   "cell_type": "code",
   "execution_count": null,
   "metadata": {},
   "outputs": [],
   "source": []
  }
 ],
 "metadata": {
  "kernelspec": {
   "display_name": "Python 3",
   "language": "python",
   "name": "python3"
  },
  "language_info": {
   "codemirror_mode": {
    "name": "ipython",
    "version": 3
   },
   "file_extension": ".py",
   "mimetype": "text/x-python",
   "name": "python",
   "nbconvert_exporter": "python",
   "pygments_lexer": "ipython3",
   "version": "3.6.1"
  }
 },
 "nbformat": 4,
 "nbformat_minor": 2
}
