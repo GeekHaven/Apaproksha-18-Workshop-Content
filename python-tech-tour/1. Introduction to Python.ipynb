{
 "cells": [
  {
   "cell_type": "markdown",
   "metadata": {},
   "source": [
    "# Basic concepts"
   ]
  },
  {
   "cell_type": "markdown",
   "metadata": {},
   "source": [
    "## Variables\n",
    "\n",
    "A `variable` is a named memory location.\n",
    "Consider it as an empty box where you can fill any **valid*** value.\n",
    "\n",
    "* Every variable is stored somewhere in computer's memory (RAM).\n",
    "* Every variable has some value, default if you haven't given one.\n",
    "* Every variable has a name to refer to it in your program.\n",
    "* Every variable has a **type**."
   ]
  },
  {
   "cell_type": "markdown",
   "metadata": {},
   "source": [
    "Every language has some default types and allows to create custom ones.\n",
    "\n",
    "Python has default types:\n",
    "`int`, `float`, `string`, `list`, `dictionary`, `tuple`."
   ]
  },
  {
   "cell_type": "code",
   "execution_count": 26,
   "metadata": {
    "collapsed": true
   },
   "outputs": [],
   "source": [
    "# basic types\n",
    "first_number = 10\n",
    "another_float = 234.354\n",
    "message = 'Python is a great language'"
   ]
  },
  {
   "cell_type": "code",
   "execution_count": 27,
   "metadata": {
    "collapsed": false
   },
   "outputs": [
    {
     "name": "stdout",
     "output_type": "stream",
     "text": [
      "10\n",
      "15\n"
     ]
    }
   ],
   "source": [
    "# access them here (live)\n",
    "print(first_number)\n",
    "print(first_number + 5)"
   ]
  },
  {
   "cell_type": "code",
   "execution_count": 7,
   "metadata": {
    "collapsed": false
   },
   "outputs": [
    {
     "name": "stdout",
     "output_type": "stream",
     "text": [
      "30\n",
      "33.1\n"
     ]
    }
   ],
   "source": [
    "# some operations\n",
    "a = 10\n",
    "b = 20\n",
    "print(a + b)\n",
    "\n",
    "c = 23.1\n",
    "print(a + c)"
   ]
  },
  {
   "cell_type": "markdown",
   "metadata": {},
   "source": [
    "## Decision making with `if - else`"
   ]
  },
  {
   "cell_type": "code",
   "execution_count": 8,
   "metadata": {
    "collapsed": false
   },
   "outputs": [
    {
     "name": "stdout",
     "output_type": "stream",
     "text": [
      "odd\n"
     ]
    }
   ],
   "source": [
    "# tell if a number is even or odd\n",
    "n = 123\n",
    "if n % 2 == 0:\n",
    "    print('even')\n",
    "else:\n",
    "    print('odd')"
   ]
  },
  {
   "cell_type": "code",
   "execution_count": 11,
   "metadata": {
    "collapsed": false
   },
   "outputs": [
    {
     "name": "stdout",
     "output_type": "stream",
     "text": [
      "negative\n"
     ]
    }
   ],
   "source": [
    "# tell if a number is positive or negative\n",
    "n = -345\n",
    "if n > 0:\n",
    "    print('positive')\n",
    "else:\n",
    "    print('negative')"
   ]
  },
  {
   "cell_type": "markdown",
   "metadata": {},
   "source": [
    "### Telling the grade of a student\n",
    "\n",
    "- Find percentage\n",
    "\n",
    "* If `percentage >= 90`, then grade is **A**.\n",
    "* If `percentage >= 75` and `percentage < 90`, then grade is **B**.\n",
    "* If `percentage >= 60` and `percentage < 75`, then grade is **C**.\n",
    "* If `percentage >= 40` and `percentage < 60`, then grade is **D**.\n",
    "* Else grade is **F**."
   ]
  },
  {
   "cell_type": "code",
   "execution_count": 33,
   "metadata": {
    "collapsed": false
   },
   "outputs": [
    {
     "name": "stdout",
     "output_type": "stream",
     "text": [
      "Your grade is B\n"
     ]
    }
   ],
   "source": [
    "marks_obtained = 432\n",
    "total_marks = 500\n",
    "percentage = marks_obtained / total_marks * 100\n",
    "\n",
    "grade = ''\n",
    "\n",
    "if percentage >= 90:\n",
    "    grade = 'A'\n",
    "elif percentage >= 75 and percentage < 90:\n",
    "    grade = 'B'\n",
    "elif percentager >= 60 and percentage < 75:\n",
    "    grade = 'C'\n",
    "elif percentage >= 40 and percentage < 60:\n",
    "    grade = 'E'\n",
    "else:\n",
    "    grade = 'F'\n",
    "    \n",
    "print('Your grade is', grade)"
   ]
  },
  {
   "cell_type": "markdown",
   "metadata": {},
   "source": [
    "## Working with random numbers\n",
    "\n",
    "The functionality to work with random numbers in Python is provided by [random](https://docs.python.org/3/library/random.html) package.\n",
    "\n",
    "[module](https://docs.python.org/3/tutorial/modules.html) is a way to wrap some code in some files to be used in other program.\n",
    "\n",
    "One needs to `import` the module written by someone, to use in his/her program."
   ]
  },
  {
   "cell_type": "code",
   "execution_count": 40,
   "metadata": {
    "collapsed": false
   },
   "outputs": [
    {
     "data": {
      "text/plain": [
       "19"
      ]
     },
     "execution_count": 40,
     "metadata": {},
     "output_type": "execute_result"
    }
   ],
   "source": [
    "import random\n",
    "\n",
    "random.randint(10, 20)"
   ]
  },
  {
   "cell_type": "markdown",
   "metadata": {},
   "source": [
    "## Looping\n",
    "\n",
    "A **loop** is repetition of a given block of statements a certain number of times."
   ]
  },
  {
   "cell_type": "code",
   "execution_count": 43,
   "metadata": {
    "collapsed": false
   },
   "outputs": [
    {
     "name": "stdout",
     "output_type": "stream",
     "text": [
      "0\n",
      "1\n",
      "2\n",
      "3\n",
      "4\n",
      "5\n",
      "6\n",
      "7\n",
      "8\n",
      "9\n"
     ]
    }
   ],
   "source": [
    "# print numbers from 0 to 9\n",
    "\n",
    "for i in range(10):\n",
    "    print(i)"
   ]
  },
  {
   "cell_type": "code",
   "execution_count": 45,
   "metadata": {
    "collapsed": false
   },
   "outputs": [
    {
     "name": "stdout",
     "output_type": "stream",
     "text": [
      "1\n",
      "2\n",
      "3\n",
      "4\n",
      "5\n",
      "6\n",
      "7\n",
      "8\n",
      "9\n",
      "10\n"
     ]
    }
   ],
   "source": [
    "# print numbers from 1 to 10\n",
    "\n",
    "for i in range(1, 11):\n",
    "    print(i)"
   ]
  },
  {
   "cell_type": "code",
   "execution_count": 49,
   "metadata": {
    "collapsed": false
   },
   "outputs": [
    {
     "name": "stdout",
     "output_type": "stream",
     "text": [
      "68\n",
      "33\n",
      "97\n"
     ]
    }
   ],
   "source": [
    "# print 3 random numbers between 1 to 100\n",
    "\n",
    "for i in range(3):\n",
    "    print(random.randint(1, 101))"
   ]
  },
  {
   "cell_type": "markdown",
   "metadata": {},
   "source": [
    "# Checkpoint\n",
    "\n",
    "* Create a Truth and Dare game.\n",
    "* Create a Rock-Paper-Scissor game."
   ]
  },
  {
   "cell_type": "code",
   "execution_count": 17,
   "metadata": {
    "collapsed": true
   },
   "outputs": [],
   "source": [
    "# Create one of them here (live)"
   ]
  },
  {
   "cell_type": "markdown",
   "metadata": {},
   "source": [
    "## Strings\n",
    "\n",
    "**Strings** are a sequence of characters.\n",
    "\n",
    "For example, `Hello`, `What is 2342`, `43243`.\n",
    "\n",
    "Strings have some basic operations like:\n",
    "\n",
    "* **Concatenation**: 'abc' + 'bc' = 'abcbc'\n",
    "* **Repetition**: 'ab' * 4 = 'abababab'\n",
    "* **Subtraction**: 'aa' - 'a' = ?\n",
    "* **Length**: len('hello') = ?"
   ]
  },
  {
   "cell_type": "code",
   "execution_count": 28,
   "metadata": {
    "collapsed": false
   },
   "outputs": [
    {
     "data": {
      "text/plain": [
       "'abcbc'"
      ]
     },
     "execution_count": 28,
     "metadata": {},
     "output_type": "execute_result"
    }
   ],
   "source": [
    "'abc' + 'bc'"
   ]
  },
  {
   "cell_type": "code",
   "execution_count": 29,
   "metadata": {
    "collapsed": false
   },
   "outputs": [
    {
     "data": {
      "text/plain": [
       "'abababab'"
      ]
     },
     "execution_count": 29,
     "metadata": {},
     "output_type": "execute_result"
    }
   ],
   "source": [
    "'ab' * 4"
   ]
  },
  {
   "cell_type": "code",
   "execution_count": 38,
   "metadata": {
    "collapsed": false
   },
   "outputs": [
    {
     "ename": "TypeError",
     "evalue": "unsupported operand type(s) for -: 'str' and 'str'",
     "output_type": "error",
     "traceback": [
      "\u001b[0;31m---------------------------------------------------------------------------\u001b[0m",
      "\u001b[0;31mTypeError\u001b[0m                                 Traceback (most recent call last)",
      "\u001b[0;32m<ipython-input-38-ceea07a01ea5>\u001b[0m in \u001b[0;36m<module>\u001b[0;34m()\u001b[0m\n\u001b[0;32m----> 1\u001b[0;31m \u001b[0;34m'aa'\u001b[0m \u001b[0;34m-\u001b[0m \u001b[0;34m'a'\u001b[0m  \u001b[0;31m# this should give error\u001b[0m\u001b[0;34m\u001b[0m\u001b[0m\n\u001b[0m\u001b[1;32m      2\u001b[0m \u001b[0;31m# What are errors?\u001b[0m\u001b[0;34m\u001b[0m\u001b[0;34m\u001b[0m\u001b[0m\n",
      "\u001b[0;31mTypeError\u001b[0m: unsupported operand type(s) for -: 'str' and 'str'"
     ]
    }
   ],
   "source": [
    "'aa' - 'a'  # this should give error\n",
    "# What are errors?"
   ]
  },
  {
   "cell_type": "code",
   "execution_count": 32,
   "metadata": {
    "collapsed": false
   },
   "outputs": [
    {
     "data": {
      "text/plain": [
       "5"
      ]
     },
     "execution_count": 32,
     "metadata": {},
     "output_type": "execute_result"
    }
   ],
   "source": [
    "len('hello')"
   ]
  },
  {
   "cell_type": "markdown",
   "metadata": {},
   "source": [
    "## Working with lists"
   ]
  },
  {
   "cell_type": "code",
   "execution_count": 6,
   "metadata": {
    "collapsed": false
   },
   "outputs": [
    {
     "name": "stdout",
     "output_type": "stream",
     "text": [
      "first name in the list is Richard\n",
      "last name in the list is Elrich\n",
      "there are total 5 names in the list\n",
      "The work of Jared is Operations\n"
     ]
    }
   ],
   "source": [
    "names = ['Richard', 'Jared', 'Dinesh', 'Gilfoye', 'Elrich']\n",
    "work = ['Engineer', 'Operations', 'Engineer', 'Engineer', 'Useless']\n",
    "\n",
    "# find the first name in the list\n",
    "# indexing starts from 0\n",
    "print('first name in the list is', names[0])\n",
    "\n",
    "# find the last name\n",
    "print('last name in the list is', names[-1])\n",
    "\n",
    "# find the number of names in the list\n",
    "print('there are total', len(names), 'names in the list')\n",
    "\n",
    "\n",
    "# find the work of Jared\n",
    "# Jared is the second name in the list `names`.\n",
    "# So, Jared is at position 1.\n",
    "print('The work of Jared is', work[1])"
   ]
  },
  {
   "cell_type": "code",
   "execution_count": 11,
   "metadata": {
    "collapsed": false
   },
   "outputs": [
    {
     "name": "stdout",
     "output_type": "stream",
     "text": [
      "['Richard', 'Jared', 'Dinesh', 'Gilfoye', 'Elrich', 'Edward']\n",
      "['Richard', 'Jared', 'Dinesh', 'Gilfoye', 'Elrich']\n",
      "Removed Jared\n",
      "['Richard', 'Dinesh', 'Gilfoye', 'Elrich']\n",
      "[1, 2, 3, 4, 6, 10]\n",
      "['Dinesh', 'Elrich', 'Gilfoye', 'Richard']\n"
     ]
    }
   ],
   "source": [
    "names = ['Richard', 'Jared', 'Dinesh', 'Gilfoye', 'Elrich']\n",
    "\n",
    "# Add an item into the list\n",
    "names.append('Edward')\n",
    "print(names)\n",
    "\n",
    "# Remove an item from the list\n",
    "names.pop()\n",
    "print(names)\n",
    "\n",
    "# check if an item is present in a list\n",
    "if 'Jared' in names:\n",
    "    names.remove('Jared')\n",
    "    print('Removed Jared')\n",
    "else:\n",
    "    names.append('Jared')\n",
    "    print('Added Jared')\n",
    "print(names)\n",
    "\n",
    "# Sort a list \n",
    "numbers = [4, 6, 1, 2, 10, 3]\n",
    "numbers.sort()\n",
    "print(numbers)\n",
    "\n",
    "# you can even sort a list of strings\n",
    "names.sort()\n",
    "print(names)"
   ]
  },
  {
   "cell_type": "code",
   "execution_count": 14,
   "metadata": {
    "collapsed": false
   },
   "outputs": [
    {
     "name": "stdout",
     "output_type": "stream",
     "text": [
      "[0, 1, 2, 3, 4, 5, 6, 7, 8, 9]\n",
      "['Jared', 'Dinesh', 'Gilfoye']\n",
      "['Elrich', 'Gilfoye', 'Dinesh', 'Jared', 'Richard']\n"
     ]
    }
   ],
   "source": [
    "names = ['Richard', 'Jared', 'Dinesh', 'Gilfoye', 'Elrich']\n",
    "\n",
    "# range() function also returns a list with numbers upto the argument passed\n",
    "print(range(10))\n",
    "\n",
    "# List slicing, returns a part of a list\n",
    "some_names = names[1:4] # returns list with indexed ranging from 1 to 4 (not including)\n",
    "print(some_names)\n",
    "\n",
    "# reverse a list\n",
    "names.reverse()\n",
    "print(names)"
   ]
  },
  {
   "cell_type": "markdown",
   "metadata": {},
   "source": [
    "## **Dictionary**\n",
    "A **dictionary** in python is a unordered collection of items. Items in the dictionary are stored in key:value pairs. "
   ]
  },
  {
   "cell_type": "code",
   "execution_count": 21,
   "metadata": {
    "collapsed": false
   },
   "outputs": [
    {
     "name": "stdout",
     "output_type": "stream",
     "text": [
      "Edward Elric\n",
      "19\n",
      "Alchemy\n",
      "edward@gmail.com\n",
      "{'gender': 'male', 'age': 19, 'contact': {'number': 1234567896, 'email': 'edward@gmail.com'}, 'name': 'Edward Elric', 'hobbies': ['Alchemy', 'Running', 'Drawing']}\n",
      "{'gender': 'male', 'age': 20, 'contact': {'number': 1234567896, 'email': 'edward@gmail.com'}, 'name': 'Edward Elric', 'hobbies': ['Alchemy', 'Running', 'Drawing']}\n",
      "{'gender': 'male', 'age': 20, 'name': 'Edward Elric', 'hobbies': ['Alchemy', 'Running', 'Drawing']}\n"
     ]
    }
   ],
   "source": [
    "# Create a dictionary. Keys in a dictionary can be associated to any type of value.\n",
    "user = {\n",
    "    \"name\": \"Edward Elric\",\n",
    "    \"age\": 19,\n",
    "    \"hobbies\": [\"Alchemy\", \"Running\", \"Drawing\"], # even a list\n",
    "    \"contact\": {                                  # even another dictionary\n",
    "        \"number\": 1234567896,\n",
    "        \"email\": \"edward@gmail.com\"\n",
    "    }\n",
    "}\n",
    "\n",
    "# accessing an element of dictionary. Unlike list where we get element based on their indexes, in a dictionary we\n",
    "# get the value of an element based on its key\n",
    "print(user['name'])\n",
    "print(user['age'])\n",
    "print(user['hobbies'][0])\n",
    "print(user['contact']['email'])\n",
    "\n",
    "# Adding a key, value pair to the dictionary\n",
    "user['gender'] = \"male\"\n",
    "print(user)\n",
    "\n",
    "# If the key is already present, then its value gets updated\n",
    "user['age'] = 20\n",
    "print(user)\n",
    "\n",
    "# Deleting a key from the dictionary\n",
    "del user['contact']\n",
    "print(user)"
   ]
  },
  {
   "cell_type": "markdown",
   "metadata": {},
   "source": [
    "# **Functions**\n",
    "A function is a block of organized, reusable code that is used to perform a single, related action.\n",
    "We are already familiar with some functions like *print()*, *len()*. These are **built-in** functions meaning these are a part of the python standard library.\n",
    "We can also create our own functions. These are called **user-defined** functions."
   ]
  },
  {
   "cell_type": "code",
   "execution_count": 31,
   "metadata": {
    "collapsed": false
   },
   "outputs": [
    {
     "name": "stdout",
     "output_type": "stream",
     "text": [
      "Hello\n",
      "Hello, Edward\n",
      "Hello, Edward Elric\n",
      "Hello, Sandy Jones\n",
      "Hello, Sandy Bars\n"
     ]
    }
   ],
   "source": [
    "# Functions in python are defined using 'def' keyword\n",
    "def greet():\n",
    "    return \"Hello\"\n",
    "\n",
    "print(greet())\n",
    "\n",
    "# Hello is not enough. We want the function to greet us with our names. So we define an argument.\n",
    "def greet_with_name(name):\n",
    "    return \"Hello, \" + name\n",
    "\n",
    "print(greet_with_name('Edward'))\n",
    "\n",
    "# We can call another function inside a function\n",
    "def generate_full_name(first_name, last_name):\n",
    "    return first_name + \" \" + last_name\n",
    "\n",
    "def greet_with_fullname(first_name, last_name):\n",
    "    fullname = generate_full_name(first_name, last_name)\n",
    "    return \"Hello, \" + fullname\n",
    "\n",
    "print(greet_with_fullname('Edward', 'Elric'))\n",
    "\n",
    "# We can define a default value for our arguments. See the below code.\n",
    "def greet_with_defaults(first_name, last_name=\"Jones\"):\n",
    "    fullname = generate_full_name(first_name, last_name)\n",
    "    return \"Hello, \" + fullname\n",
    "\n",
    "print(greet_with_defaults(\"Sandy\"))\n",
    "print(greet_with_defaults(first_name=\"Sandy\", last_name=\"Bars\"))"
   ]
  },
  {
   "cell_type": "code",
   "execution_count": null,
   "metadata": {
    "collapsed": true
   },
   "outputs": [],
   "source": []
  }
 ],
 "metadata": {
  "kernelspec": {
   "display_name": "Python 2",
   "language": "python",
   "name": "python2"
  },
  "language_info": {
   "codemirror_mode": {
    "name": "ipython",
    "version": 2
   },
   "file_extension": ".py",
   "mimetype": "text/x-python",
   "name": "python",
   "nbconvert_exporter": "python",
   "pygments_lexer": "ipython2",
   "version": "2.7.12"
  }
 },
 "nbformat": 4,
 "nbformat_minor": 2
}
